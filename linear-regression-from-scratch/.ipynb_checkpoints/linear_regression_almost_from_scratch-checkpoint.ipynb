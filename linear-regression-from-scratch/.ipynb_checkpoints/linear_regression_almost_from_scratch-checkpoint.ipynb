{
 "cells": [
  {
   "cell_type": "markdown",
   "id": "3c2ff896-fbfb-40ec-8348-0b3da10efc9d",
   "metadata": {},
   "source": [
    "# __LINEAR REGRESSION FROM ALMOST SCRATCH__"
   ]
  },
  {
   "cell_type": "markdown",
   "id": "0602a71e-58f3-4504-af63-0e5d1e4069ad",
   "metadata": {
    "tags": []
   },
   "source": [
    "## Introduction"
   ]
  },
  {
   "cell_type": "markdown",
   "id": "2e281530-1430-427a-9c25-a715981d4ae5",
   "metadata": {},
   "source": [
    "#### This is a project made by me <a href=\"https://github.com/Rulios\">Robert Lu Zheng</a> to start in this advancing and fast paced environment of ML. "
   ]
  },
  {
   "cell_type": "markdown",
   "id": "66bb57de-1b83-4064-a189-cedea9f49a4d",
   "metadata": {},
   "source": [
    "## Description"
   ]
  },
  {
   "cell_type": "markdown",
   "id": "00af8e60-2772-4812-a225-b6669df8c169",
   "metadata": {},
   "source": [
    "#### I'll be implementing a Linear Regression on a dataset using Pandas, NumPy. No framework, no library that has any kind of support that can scaffold this algorithm, everything from scratch (almost)"
   ]
  },
  {
   "cell_type": "markdown",
   "id": "7ba2b30f-c07c-45f7-9f96-9408b18df63c",
   "metadata": {},
   "source": [
    "#### This Jupyter Notebook will contain all the breakdown process of what I did to build the linear regression algorithm. "
   ]
  },
  {
   "cell_type": "markdown",
   "id": "3d9f0137-2c8f-4b04-8bd3-9251d5535999",
   "metadata": {},
   "source": [
    "### Install libraries (optional)"
   ]
  },
  {
   "cell_type": "code",
   "execution_count": 1,
   "id": "eac2f2fd-0adb-42f9-ba3d-93f01cd59ac9",
   "metadata": {
    "tags": []
   },
   "outputs": [
    {
     "name": "stdout",
     "output_type": "stream",
     "text": [
      "Requirement already satisfied: numpy in c:\\python311\\lib\\site-packages (1.24.2)\n",
      "Requirement already satisfied: pandas in c:\\python311\\lib\\site-packages (1.5.3)\n",
      "Requirement already satisfied: python-dateutil>=2.8.1 in c:\\python311\\lib\\site-packages (from pandas) (2.8.2)\n",
      "Requirement already satisfied: pytz>=2020.1 in c:\\python311\\lib\\site-packages (from pandas) (2022.7.1)\n",
      "Requirement already satisfied: numpy>=1.21.0 in c:\\python311\\lib\\site-packages (from pandas) (1.24.2)\n",
      "Requirement already satisfied: six>=1.5 in c:\\python311\\lib\\site-packages (from python-dateutil>=2.8.1->pandas) (1.16.0)\n",
      "Requirement already satisfied: matplotlib in c:\\python311\\lib\\site-packages (3.6.3)\n",
      "Requirement already satisfied: contourpy>=1.0.1 in c:\\python311\\lib\\site-packages (from matplotlib) (1.0.7)\n",
      "Requirement already satisfied: cycler>=0.10 in c:\\python311\\lib\\site-packages (from matplotlib) (0.11.0)\n",
      "Requirement already satisfied: fonttools>=4.22.0 in c:\\python311\\lib\\site-packages (from matplotlib) (4.38.0)\n",
      "Requirement already satisfied: kiwisolver>=1.0.1 in c:\\python311\\lib\\site-packages (from matplotlib) (1.4.4)\n",
      "Requirement already satisfied: numpy>=1.19 in c:\\python311\\lib\\site-packages (from matplotlib) (1.24.2)\n",
      "Requirement already satisfied: packaging>=20.0 in c:\\python311\\lib\\site-packages (from matplotlib) (23.0)\n",
      "Requirement already satisfied: pillow>=6.2.0 in c:\\python311\\lib\\site-packages (from matplotlib) (9.4.0)\n",
      "Requirement already satisfied: pyparsing>=2.2.1 in c:\\python311\\lib\\site-packages (from matplotlib) (3.0.9)\n",
      "Requirement already satisfied: python-dateutil>=2.7 in c:\\python311\\lib\\site-packages (from matplotlib) (2.8.2)\n",
      "Requirement already satisfied: six>=1.5 in c:\\python311\\lib\\site-packages (from python-dateutil>=2.7->matplotlib) (1.16.0)\n"
     ]
    }
   ],
   "source": [
    "# Install pip packages in the current Jupyter kernel\n",
    "import sys\n",
    "!{sys.executable} -m pip install numpy\n",
    "!{sys.executable} -m pip install pandas\n",
    "!{sys.executable} -m pip install matplotlib"
   ]
  },
  {
   "cell_type": "markdown",
   "id": "f7a48461-2245-46f0-bcbf-698124bd2e4f",
   "metadata": {
    "tags": []
   },
   "source": [
    "### Import the libraries"
   ]
  },
  {
   "cell_type": "code",
   "execution_count": 2,
   "id": "ed261984-c10e-4a18-a9bd-58aa9699d160",
   "metadata": {
    "tags": []
   },
   "outputs": [],
   "source": [
    "import pandas as pd\n",
    "import numpy as np\n",
    "import matplotlib.pyplot as plt\n",
    "import random "
   ]
  },
  {
   "cell_type": "markdown",
   "id": "65859430-b605-416e-a4bb-2940686ad0a0",
   "metadata": {},
   "source": [
    "### Import the dataset (as Pandas DataFrame)"
   ]
  },
  {
   "cell_type": "code",
   "execution_count": 3,
   "id": "a57978d3-a610-444c-8e96-bef9a939072e",
   "metadata": {
    "tags": []
   },
   "outputs": [],
   "source": [
    "data = pd.read_csv(\"./data/life-expectancy-data.csv\")"
   ]
  },
  {
   "cell_type": "markdown",
   "id": "55948313-4d50-478e-a2d3-8adcb81992bb",
   "metadata": {
    "tags": []
   },
   "source": [
    "### Objective"
   ]
  },
  {
   "cell_type": "markdown",
   "id": "c45786b4-ad65-4e29-9f6a-e3fb82da8278",
   "metadata": {},
   "source": [
    "Label to predict: Life Expectancy"
   ]
  },
  {
   "cell_type": "markdown",
   "id": "5be6dd66-37e9-4c55-89f0-a35fbf56b624",
   "metadata": {
    "tags": []
   },
   "source": [
    "### Dataset notes"
   ]
  },
  {
   "cell_type": "markdown",
   "id": "a60a8844-1872-43f7-af40-28023f6a6fa7",
   "metadata": {
    "tags": []
   },
   "source": [
    "I use this section to take notes on the dataset when I explore it, and get a better understanding of what I'm trying to accomplish \n",
    "\n",
    "This dataset is extracted from <a href=\"https://www.kaggle.com/datasets/kumarajarshi/life-expectancy-who?resource=download\">here</a>\n",
    "\n",
    "\n",
    "***\n",
    "Notes: \n",
    "\n",
    "- My gosh, this dataset has a lot of features. \n",
    "- This data ranges from 2000 to 2015\n",
    "- The most correlated features with Life Expectancy are *Schooling* and *Income Composition of Resources*\n",
    "\n",
    "***\n",
    "\n",
    "***\n",
    "Experiment: \n",
    "\n",
    "- I think I'll start with Schooling as a feature to make the linear regression model. Then, if everything goes better, I'll add more features to the model\n",
    "\n",
    "***\n",
    "\n",
    "Run the cells below to get a better understanding of the dataset "
   ]
  },
  {
   "cell_type": "code",
   "execution_count": 4,
   "id": "70b84a08-4d1e-41b6-ab87-d9e4e66bb121",
   "metadata": {
    "tags": []
   },
   "outputs": [
    {
     "name": "stdout",
     "output_type": "stream",
     "text": [
      "              Year  Life expectancy   Adult Mortality  infant deaths  \\\n",
      "count  2938.000000       2928.000000      2928.000000    2938.000000   \n",
      "mean   2007.518720         69.224932       164.796448      30.303948   \n",
      "std       4.613841          9.523867       124.292079     117.926501   \n",
      "min    2000.000000         36.300000         1.000000       0.000000   \n",
      "25%    2004.000000         63.100000        74.000000       0.000000   \n",
      "50%    2008.000000         72.100000       144.000000       3.000000   \n",
      "75%    2012.000000         75.700000       228.000000      22.000000   \n",
      "max    2015.000000         89.000000       723.000000    1800.000000   \n",
      "\n",
      "           Alcohol  percentage expenditure  Hepatitis B       Measles   \\\n",
      "count  2744.000000             2938.000000  2385.000000    2938.000000   \n",
      "mean      4.602861              738.251295    80.940461    2419.592240   \n",
      "std       4.052413             1987.914858    25.070016   11467.272489   \n",
      "min       0.010000                0.000000     1.000000       0.000000   \n",
      "25%       0.877500                4.685343    77.000000       0.000000   \n",
      "50%       3.755000               64.912906    92.000000      17.000000   \n",
      "75%       7.702500              441.534144    97.000000     360.250000   \n",
      "max      17.870000            19479.911610    99.000000  212183.000000   \n",
      "\n",
      "              BMI   under-five deaths         Polio  Total expenditure  \\\n",
      "count  2904.000000         2938.000000  2919.000000         2712.00000   \n",
      "mean     38.321247           42.035739    82.550188            5.93819   \n",
      "std      20.044034          160.445548    23.428046            2.49832   \n",
      "min       1.000000            0.000000     3.000000            0.37000   \n",
      "25%      19.300000            0.000000    78.000000            4.26000   \n",
      "50%      43.500000            4.000000    93.000000            5.75500   \n",
      "75%      56.200000           28.000000    97.000000            7.49250   \n",
      "max      87.300000         2500.000000    99.000000           17.60000   \n",
      "\n",
      "       Diphtheria      HIV/AIDS            GDP    Population  \\\n",
      "count  2919.000000  2938.000000    2490.000000  2.286000e+03   \n",
      "mean     82.324084     1.742103    7483.158469  1.275338e+07   \n",
      "std      23.716912     5.077785   14270.169342  6.101210e+07   \n",
      "min       2.000000     0.100000       1.681350  3.400000e+01   \n",
      "25%      78.000000     0.100000     463.935626  1.957932e+05   \n",
      "50%      93.000000     0.100000    1766.947595  1.386542e+06   \n",
      "75%      97.000000     0.800000    5910.806335  7.420359e+06   \n",
      "max      99.000000    50.600000  119172.741800  1.293859e+09   \n",
      "\n",
      "        thinness  1-19 years   thinness 5-9 years  \\\n",
      "count            2904.000000          2904.000000   \n",
      "mean                4.839704             4.870317   \n",
      "std                 4.420195             4.508882   \n",
      "min                 0.100000             0.100000   \n",
      "25%                 1.600000             1.500000   \n",
      "50%                 3.300000             3.300000   \n",
      "75%                 7.200000             7.200000   \n",
      "max                27.700000            28.600000   \n",
      "\n",
      "       Income composition of resources    Schooling  \n",
      "count                      2771.000000  2775.000000  \n",
      "mean                          0.627551    11.992793  \n",
      "std                           0.210904     3.358920  \n",
      "min                           0.000000     0.000000  \n",
      "25%                           0.493000    10.100000  \n",
      "50%                           0.677000    12.300000  \n",
      "75%                           0.779000    14.300000  \n",
      "max                           0.948000    20.700000  \n"
     ]
    }
   ],
   "source": [
    "print(data.describe())\n"
   ]
  },
  {
   "cell_type": "code",
   "execution_count": 5,
   "id": "20d8974c-b57e-4aaf-98fc-b8c7c14cb81b",
   "metadata": {
    "tags": []
   },
   "outputs": [
    {
     "name": "stdout",
     "output_type": "stream",
     "text": [
      "count    2775.000000\n",
      "mean       11.992793\n",
      "std         3.358920\n",
      "min         0.000000\n",
      "25%        10.100000\n",
      "50%        12.300000\n",
      "75%        14.300000\n",
      "max        20.700000\n",
      "Name: Schooling, dtype: float64\n",
      "count    2928.000000\n",
      "mean       69.224932\n",
      "std         9.523867\n",
      "min        36.300000\n",
      "25%        63.100000\n",
      "50%        72.100000\n",
      "75%        75.700000\n",
      "max        89.000000\n",
      "Name: Life expectancy , dtype: float64\n"
     ]
    }
   ],
   "source": [
    "print(data[\"Schooling\"].describe())\n",
    "print(data[\"Life expectancy \"].describe())"
   ]
  },
  {
   "cell_type": "code",
   "execution_count": 6,
   "id": "67ceb98f-c184-4d74-a0f1-d0dee29954b5",
   "metadata": {
    "tags": []
   },
   "outputs": [
    {
     "name": "stdout",
     "output_type": "stream",
     "text": [
      "                                     Year  Life expectancy   Adult Mortality  \\\n",
      "Year                             1.000000          0.170033        -0.079052   \n",
      "Life expectancy                  0.170033          1.000000        -0.696359   \n",
      "Adult Mortality                 -0.079052         -0.696359         1.000000   \n",
      "infant deaths                   -0.037415         -0.196557         0.078756   \n",
      "Alcohol                         -0.052990          0.404877        -0.195848   \n",
      "percentage expenditure           0.031400          0.381864        -0.242860   \n",
      "Hepatitis B                      0.104333          0.256762        -0.162476   \n",
      "Measles                         -0.082493         -0.157586         0.031176   \n",
      " BMI                             0.108974          0.567694        -0.387017   \n",
      "under-five deaths               -0.042937         -0.222529         0.094146   \n",
      "Polio                            0.094158          0.465556        -0.274823   \n",
      "Total expenditure                0.090740          0.218086        -0.115281   \n",
      "Diphtheria                       0.134337          0.479495        -0.275131   \n",
      " HIV/AIDS                       -0.139741         -0.556556         0.523821   \n",
      "GDP                              0.101620          0.461455        -0.296049   \n",
      "Population                       0.016969         -0.021538        -0.013647   \n",
      " thinness  1-19 years           -0.047876         -0.477183         0.302904   \n",
      " thinness 5-9 years             -0.050929         -0.471584         0.308457   \n",
      "Income composition of resources  0.243468          0.724776        -0.457626   \n",
      "Schooling                        0.209400          0.751975        -0.454612   \n",
      "\n",
      "                                 infant deaths   Alcohol  \\\n",
      "Year                                 -0.037415 -0.052990   \n",
      "Life expectancy                      -0.196557  0.404877   \n",
      "Adult Mortality                       0.078756 -0.195848   \n",
      "infant deaths                         1.000000 -0.115638   \n",
      "Alcohol                              -0.115638  1.000000   \n",
      "percentage expenditure               -0.085612  0.341285   \n",
      "Hepatitis B                          -0.223566  0.087549   \n",
      "Measles                               0.501128 -0.051827   \n",
      " BMI                                 -0.227279  0.330408   \n",
      "under-five deaths                     0.996629 -0.112370   \n",
      "Polio                                -0.170689  0.221734   \n",
      "Total expenditure                    -0.128616  0.296942   \n",
      "Diphtheria                           -0.175171  0.222020   \n",
      " HIV/AIDS                             0.025231 -0.048845   \n",
      "GDP                                  -0.108427  0.354712   \n",
      "Population                            0.556801 -0.035252   \n",
      " thinness  1-19 years                 0.465711 -0.428795   \n",
      " thinness 5-9 years                   0.471350 -0.417414   \n",
      "Income composition of resources      -0.145139  0.450040   \n",
      "Schooling                            -0.193720  0.547378   \n",
      "\n",
      "                                 percentage expenditure  Hepatitis B  \\\n",
      "Year                                           0.031400     0.104333   \n",
      "Life expectancy                                0.381864     0.256762   \n",
      "Adult Mortality                               -0.242860    -0.162476   \n",
      "infant deaths                                 -0.085612    -0.223566   \n",
      "Alcohol                                        0.341285     0.087549   \n",
      "percentage expenditure                         1.000000     0.016274   \n",
      "Hepatitis B                                    0.016274     1.000000   \n",
      "Measles                                       -0.056596    -0.120529   \n",
      " BMI                                           0.228700     0.150380   \n",
      "under-five deaths                             -0.087852    -0.233126   \n",
      "Polio                                          0.147259     0.486171   \n",
      "Total expenditure                              0.174420     0.058280   \n",
      "Diphtheria                                     0.143624     0.611495   \n",
      " HIV/AIDS                                     -0.097857    -0.112675   \n",
      "GDP                                            0.899373     0.083903   \n",
      "Population                                    -0.025662    -0.123321   \n",
      " thinness  1-19 years                         -0.251369    -0.120429   \n",
      " thinness 5-9 years                           -0.252905    -0.124960   \n",
      "Income composition of resources                0.381952     0.199549   \n",
      "Schooling                                      0.389687     0.231117   \n",
      "\n",
      "                                 Measles       BMI   under-five deaths   \\\n",
      "Year                            -0.082493  0.108974           -0.042937   \n",
      "Life expectancy                 -0.157586  0.567694           -0.222529   \n",
      "Adult Mortality                  0.031176 -0.387017            0.094146   \n",
      "infant deaths                    0.501128 -0.227279            0.996629   \n",
      "Alcohol                         -0.051827  0.330408           -0.112370   \n",
      "percentage expenditure          -0.056596  0.228700           -0.087852   \n",
      "Hepatitis B                     -0.120529  0.150380           -0.233126   \n",
      "Measles                          1.000000 -0.175977            0.507809   \n",
      " BMI                            -0.175977  1.000000           -0.237669   \n",
      "under-five deaths                0.507809 -0.237669            1.000000   \n",
      "Polio                           -0.136166  0.284569           -0.188720   \n",
      "Total expenditure               -0.106241  0.242503           -0.130148   \n",
      "Diphtheria                      -0.141882  0.283147           -0.195668   \n",
      " HIV/AIDS                        0.030899 -0.243717            0.038062   \n",
      "GDP                             -0.076466  0.301557           -0.112081   \n",
      "Population                       0.265966 -0.072301            0.544423   \n",
      " thinness  1-19 years            0.224808 -0.532025            0.467789   \n",
      " thinness 5-9 years              0.221072 -0.538911            0.472263   \n",
      "Income composition of resources -0.129568  0.508774           -0.163305   \n",
      "Schooling                       -0.137225  0.546961           -0.209373   \n",
      "\n",
      "                                    Polio  Total expenditure  Diphtheria   \\\n",
      "Year                             0.094158           0.090740     0.134337   \n",
      "Life expectancy                  0.465556           0.218086     0.479495   \n",
      "Adult Mortality                 -0.274823          -0.115281    -0.275131   \n",
      "infant deaths                   -0.170689          -0.128616    -0.175171   \n",
      "Alcohol                          0.221734           0.296942     0.222020   \n",
      "percentage expenditure           0.147259           0.174420     0.143624   \n",
      "Hepatitis B                      0.486171           0.058280     0.611495   \n",
      "Measles                         -0.136166          -0.106241    -0.141882   \n",
      " BMI                             0.284569           0.242503     0.283147   \n",
      "under-five deaths               -0.188720          -0.130148    -0.195668   \n",
      "Polio                            1.000000           0.137330     0.673553   \n",
      "Total expenditure                0.137330           1.000000     0.152754   \n",
      "Diphtheria                       0.673553           0.152754     1.000000   \n",
      " HIV/AIDS                       -0.159560          -0.001389    -0.164860   \n",
      "GDP                              0.211976           0.138364     0.200666   \n",
      "Population                      -0.038540          -0.079662    -0.028444   \n",
      " thinness  1-19 years           -0.221823          -0.277101    -0.229518   \n",
      " thinness 5-9 years             -0.222592          -0.283774    -0.222743   \n",
      "Income composition of resources  0.381078           0.166682     0.401456   \n",
      "Schooling                        0.417866           0.246384     0.425332   \n",
      "\n",
      "                                  HIV/AIDS       GDP  Population  \\\n",
      "Year                             -0.139741  0.101620    0.016969   \n",
      "Life expectancy                  -0.556556  0.461455   -0.021538   \n",
      "Adult Mortality                   0.523821 -0.296049   -0.013647   \n",
      "infant deaths                     0.025231 -0.108427    0.556801   \n",
      "Alcohol                          -0.048845  0.354712   -0.035252   \n",
      "percentage expenditure           -0.097857  0.899373   -0.025662   \n",
      "Hepatitis B                      -0.112675  0.083903   -0.123321   \n",
      "Measles                           0.030899 -0.076466    0.265966   \n",
      " BMI                             -0.243717  0.301557   -0.072301   \n",
      "under-five deaths                 0.038062 -0.112081    0.544423   \n",
      "Polio                            -0.159560  0.211976   -0.038540   \n",
      "Total expenditure                -0.001389  0.138364   -0.079662   \n",
      "Diphtheria                       -0.164860  0.200666   -0.028444   \n",
      " HIV/AIDS                         1.000000 -0.136491   -0.027854   \n",
      "GDP                              -0.136491  1.000000   -0.028270   \n",
      "Population                       -0.027854 -0.028270    1.000000   \n",
      " thinness  1-19 years             0.204064 -0.285697    0.253944   \n",
      " thinness 5-9 years               0.207283 -0.290539    0.251403   \n",
      "Income composition of resources  -0.249519  0.460341   -0.008735   \n",
      "Schooling                        -0.220429  0.448273   -0.031668   \n",
      "\n",
      "                                  thinness  1-19 years   thinness 5-9 years  \\\n",
      "Year                                         -0.047876            -0.050929   \n",
      "Life expectancy                              -0.477183            -0.471584   \n",
      "Adult Mortality                               0.302904             0.308457   \n",
      "infant deaths                                 0.465711             0.471350   \n",
      "Alcohol                                      -0.428795            -0.417414   \n",
      "percentage expenditure                       -0.251369            -0.252905   \n",
      "Hepatitis B                                  -0.120429            -0.124960   \n",
      "Measles                                       0.224808             0.221072   \n",
      " BMI                                         -0.532025            -0.538911   \n",
      "under-five deaths                             0.467789             0.472263   \n",
      "Polio                                        -0.221823            -0.222592   \n",
      "Total expenditure                            -0.277101            -0.283774   \n",
      "Diphtheria                                   -0.229518            -0.222743   \n",
      " HIV/AIDS                                     0.204064             0.207283   \n",
      "GDP                                          -0.285697            -0.290539   \n",
      "Population                                    0.253944             0.251403   \n",
      " thinness  1-19 years                         1.000000             0.939102   \n",
      " thinness 5-9 years                           0.939102             1.000000   \n",
      "Income composition of resources              -0.422429            -0.411053   \n",
      "Schooling                                    -0.471652            -0.460632   \n",
      "\n",
      "                                 Income composition of resources  Schooling  \n",
      "Year                                                    0.243468   0.209400  \n",
      "Life expectancy                                         0.724776   0.751975  \n",
      "Adult Mortality                                        -0.457626  -0.454612  \n",
      "infant deaths                                          -0.145139  -0.193720  \n",
      "Alcohol                                                 0.450040   0.547378  \n",
      "percentage expenditure                                  0.381952   0.389687  \n",
      "Hepatitis B                                             0.199549   0.231117  \n",
      "Measles                                                -0.129568  -0.137225  \n",
      " BMI                                                    0.508774   0.546961  \n",
      "under-five deaths                                      -0.163305  -0.209373  \n",
      "Polio                                                   0.381078   0.417866  \n",
      "Total expenditure                                       0.166682   0.246384  \n",
      "Diphtheria                                              0.401456   0.425332  \n",
      " HIV/AIDS                                              -0.249519  -0.220429  \n",
      "GDP                                                     0.460341   0.448273  \n",
      "Population                                             -0.008735  -0.031668  \n",
      " thinness  1-19 years                                  -0.422429  -0.471652  \n",
      " thinness 5-9 years                                    -0.411053  -0.460632  \n",
      "Income composition of resources                         1.000000   0.800092  \n",
      "Schooling                                               0.800092   1.000000  \n"
     ]
    },
    {
     "name": "stderr",
     "output_type": "stream",
     "text": [
      "C:\\Users\\Robert\\AppData\\Local\\Temp\\ipykernel_18848\\2397591091.py:3: FutureWarning: The default value of numeric_only in DataFrame.corr is deprecated. In a future version, it will default to False. Select only valid columns or specify the value of numeric_only to silence this warning.\n",
      "  print(data.corr())\n"
     ]
    }
   ],
   "source": [
    "#Print correlations \n",
    "\n",
    "print(data.corr())"
   ]
  },
  {
   "cell_type": "code",
   "execution_count": null,
   "id": "d0bd61c5-49cb-4576-95c0-0e3889cef9a1",
   "metadata": {
    "jupyter": {
     "source_hidden": true
    },
    "tags": []
   },
   "outputs": [],
   "source": []
  },
  {
   "cell_type": "markdown",
   "id": "7e74af1b-7a4b-4741-a1be-1ea1353c1ffc",
   "metadata": {},
   "source": [
    "\n",
    "### Algorithm "
   ]
  },
  {
   "attachments": {
    "4247ad78-b522-4383-ba90-205a79055f2d.png": {
     "image/png": "[encoded data removed]"
    }
   },
   "cell_type": "markdown",
   "id": "25e0e64e-0149-4240-830f-7c315c2c4705",
   "metadata": {},
   "source": [
    "![imagen.png](attachment:4247ad78-b522-4383-ba90-205a79055f2d.png)"
   ]
  },
  {
   "cell_type": "code",
   "execution_count": 15,
   "id": "059541f4-ae2a-4169-8029-47cf4798201f",
   "metadata": {
    "tags": []
   },
   "outputs": [
    {
     "name": "stdout",
     "output_type": "stream",
     "text": [
      "accuracy:  [0.950165725861837 0.9619278526770556 0.9571355544126291 ...\n",
      " 0.9549292961838673 0.948919869008383 0.9614489577421758]\n",
      "accuracy:  [109.82988556674948 94.72744545924101 101.44226038949229 ...\n",
      " 105.708212256696 121.40304212792292 99.4992773830908]\n",
      "accuracy:  [12809.829657577364 11064.990488064206 11840.828189769627 ...\n",
      " 12333.819108645597 14147.823907954653 11616.674949258551]\n",
      "accuracy:  [1493938.0077293476 1290430.6724613085 1380919.570346865 ...\n",
      " 1438418.8749769577 1649992.5333841464 1354775.3820154744]\n",
      "accuracy:  [174229658.8787624 150495749.83552703 161048958.05029246 ...\n",
      " 167754776.7426819 192429416.14490113 157999909.6218009]\n",
      "accuracy:  [20319433405.723835 17551479945.56857 18782241769.900352 ...\n",
      " 19564304009.030117 22441969604.262573 18426648254.29897]\n",
      "accuracy:  [2369742193188.164 2046931218492.092 2190468105889.4385 ...\n",
      " 2281675663141.024 2617281752268.064 2148997217372.5723]\n",
      "accuracy:  [276369815537868.12 238722171930541.66 255462078578163.97 ...\n",
      " 266099107300422.84 305238973743312.2 250625560140610.25]\n",
      "accuracy:  [3.223147022490091e+16 2.7840835518264668e+16 2.97931174692816e+16 ...\n",
      " 3.1033654804647456e+16 3.5598319138215852e+16 2.9229061297992384e+16]\n",
      "accuracy:  [3.7589766119604536e+18 3.2469213734390395e+18 3.4746051291789696e+18 ...\n",
      " 3.6192820799158124e+18 4.151633423233612e+18 3.408822403758332e+18]\n",
      "accuracy:  [4.3838847780357905e+20 3.786703311536385e+20 4.052238177547092e+20 ...\n",
      " 4.220966836312833e+20 4.841818517888115e+20 3.9755194537030405e+20]\n",
      "accuracy:  [5.112680319942383e+22 4.416220881386191e+22 4.7258993862851605e+22 ...\n",
      " 4.922678210720505e+22 5.646742900991697e+22 4.6364266173990405e+22]\n",
      "accuracy:  [5.962633914306031e+24 5.150392113840695e+24 5.511552882809524e+24 ...\n",
      " 5.741045051060065e+24 6.585481317008952e+24 5.407205782505537e+24]\n",
      "accuracy:  [6.953887388060482e+26 6.006615076278985e+26 6.427816738579405e+26 ...\n",
      " 6.695460655243007e+26 7.680279576578091e+26 6.306122535109422e+26]\n",
      "accuracy:  [8.109931030614812e+28 7.0051801643656425e+28 7.496404171976363e+28 ...\n",
      " 7.808542345026478e+28 8.957081727959973e+28 7.35447900956121e+28]\n",
      "accuracy:  [9.45816025641356e+30 8.169750934934505e+30 8.742638098615809e+30 ...\n",
      " 9.106667441369458e+30 1.0446144867697683e+31 8.577118697097758e+30]\n",
      "accuracy:  [1.1030524809434674e+33 9.527924874564191e+32 1.0196051222678055e+33 ...\n",
      " 1.0620598342598494e+33 1.2182756159999844e+33 1.000301517598498e+33]\n",
      "accuracy:  [1.2864285894188362e+35 1.1111887392692821e+35 1.1891085889959723e+35 ...\n",
      " 1.2386211518210832e+35 1.4208069056458117e+35 1.1665958714648933e+35]\n",
      "accuracy:  [1.500289917537434e+37 1.2959174537313236e+37 1.3867910287455401e+37 ...\n",
      " 1.4445347693689595e+37 1.6570078532466111e+37 1.3605357018614379e+37]\n",
      "accuracy:  [1.7497044571135853e+39 1.5113562507750504e+39 1.6173370331409044e+39 ...\n",
      " 1.6846803373637608e+39 1.9324758451064302e+39 1.5867169097000352e+39]\n"
     ]
    }
   ],
   "source": [
    "def initParams(): \n",
    "    \n",
    "    learningRate = 0.1\n",
    "    iterations = 20\n",
    "\n",
    "    \n",
    "    #these 2 parameter may change (initialize randomly)\n",
    "    m = random.random()\n",
    "    b = 0  \n",
    "    \n",
    "    return learningRate, m , b, iterations\n",
    "\n",
    "#predicts Y\n",
    "def linearRegression(b, m ,x ):\n",
    "    return b + np.dot(m , x)\n",
    "\n",
    "#mean squared error\n",
    "def costfunction(length, computed, expected):\n",
    "    return (1/(2*length)) * np.sum(np.power(difference(computed, expected), 2))\n",
    "\n",
    "\n",
    "def difference(computed, expected):\n",
    "    return computed - expected\n",
    "\n",
    "def costFunctionDerivative(length, computed, expected):\n",
    "    return (1/length) * np.sum(difference(computed, expected))\n",
    "    \n",
    "def gradientDescent(trainingSet, testSet): \n",
    "    \n",
    "    #here we using y = mx + b, whereas m is the slope and b the intercept\n",
    "    learningRate, b, m, iterations = initParams()\n",
    "    \n",
    "    rows, columns = np.shape(trainingSet)\n",
    "    \n",
    "    x = trainingSet[:, 0]\n",
    "    y = trainingSet[:, 1]\n",
    "    \n",
    "    for i in range(iterations):\n",
    "        newB = b - learningRate * costFunctionDerivative(rows, linearRegression(b, m, x), y)\n",
    "        \n",
    "        newM = m - learningRate * costFunctionDerivative(rows, linearRegression(b, m, x),  y) * np.sum(1/x)\n",
    "        \n",
    "        print(\"accuracy: \", np.absolute(linearRegression(b, m, x) -  y) / y)\n",
    "    \n",
    "        #update intercept and slope\n",
    "        b = newB\n",
    "        m = newM\n",
    "    \n",
    "    \n",
    "    \n",
    "    return \n",
    "\n",
    "\n",
    "\n",
    "\n",
    "#delete all the data that has null values in\n",
    "# - Schooling \n",
    "# - Life expectancy \n",
    "\n",
    "data = pd.read_csv(\"./data/life-expectancy-data.csv\")\n",
    "columns = list(data.columns.values)\n",
    "\n",
    "#print(columns)\n",
    "\n",
    "#remove rows with empty values (this should be reviewed in the future, since probably this can cause a hurdle)\n",
    "data = data.dropna()\n",
    "\n",
    "#convert it into an np array to perform math calc\n",
    "data = np.array(data)\n",
    "\n",
    "#get size of the data\n",
    "m, n = np.shape(data)\n",
    "\n",
    "#randomize data by shuffling it \n",
    "np.random.shuffle(data)\n",
    "\n",
    "\n",
    "#divide data set\n",
    "#training set = 70% of the data \n",
    "#test set = 30% of the data\n",
    "training_set = data[0:int(m*.7)]\n",
    "test_set = data[int(m*.7):m]\n",
    "                \n",
    "\n",
    "#print(training_set[:, 3])\n",
    "#print(training_set[:, (3,21)])\n",
    "\n",
    "gradientDescent(training_set[:, (3, 21)], test_set[:, (3, 21)])\n",
    "    \n",
    "# Life expectancy is in index 3\n",
    "# Schooling is in index 21\n",
    "\n",
    "#print(m, n)\n",
    "\n",
    "\n",
    "\n",
    "\n"
   ]
  },
  {
   "cell_type": "code",
   "execution_count": null,
   "id": "c457d8a3-3bf5-4ff3-93d7-bf1c29f64652",
   "metadata": {},
   "outputs": [],
   "source": []
  },
  {
   "cell_type": "code",
   "execution_count": null,
   "id": "809dce5e-cff7-498f-9b48-dbc0e2e88dff",
   "metadata": {},
   "outputs": [],
   "source": []
  },
  {
   "cell_type": "code",
   "execution_count": null,
   "id": "6afc489f-b0b1-4036-960c-a29b9990abad",
   "metadata": {},
   "outputs": [],
   "source": []
  }
 ],
 "metadata": {
  "kernelspec": {
   "display_name": "Python 3 (ipykernel)",
   "language": "python",
   "name": "python3"
  },
  "language_info": {
   "codemirror_mode": {
    "name": "ipython",
    "version": 3
   },
   "file_extension": ".py",
   "mimetype": "text/x-python",
   "name": "python",
   "nbconvert_exporter": "python",
   "pygments_lexer": "ipython3",
   "version": "3.11.0"
  }
 },
 "nbformat": 4,
 "nbformat_minor": 5
}
